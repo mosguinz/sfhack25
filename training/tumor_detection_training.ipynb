{
  "nbformat": 4,
  "nbformat_minor": 0,
  "metadata": {
    "colab": {
      "provenance": [],
      "machine_shape": "hm",
      "gpuType": "A100"
    },
    "kernelspec": {
      "name": "python3",
      "display_name": "Python 3"
    },
    "language_info": {
      "name": "python"
    },
    "accelerator": "GPU"
  },
  "cells": [
    {
      "cell_type": "code",
      "execution_count": null,
      "metadata": {
        "id": "zOxa03cMA08C"
      },
      "outputs": [],
      "source": [
        "import os\n",
        "from datetime import datetime\n",
        "\n",
        "import numpy as np\n",
        "import pandas as pd\n",
        "import matplotlib.pyplot as plt\n",
        "import seaborn as sns\n",
        "from matplotlib.colors import ListedColormap\n",
        "from PIL import Image\n",
        "\n",
        "import torch\n",
        "import torch.nn as nn\n",
        "import torch.nn.functional as F\n",
        "import torch.optim as optim\n",
        "from torch.utils.data import Dataset, DataLoader, Subset, random_split\n",
        "from torch.cuda.amp import autocast, GradScaler\n",
        "\n",
        "import torchvision.models as models\n",
        "from torchvision import transforms\n",
        "from torchvision.io import read_image\n",
        "from torchvision.models import inception_v3, Inception_V3_Weights\n",
        "\n",
        "from sklearn.metrics import classification_report, confusion_matrix\n",
        "\n",
        "from torch.optim.lr_scheduler import ReduceLROnPlateau"
      ]
    },
    {
      "cell_type": "code",
      "source": [
        "from google.colab import drive\n",
        "drive.mount('/content/drive')\n",
        "%cd /content/drive/MyDrive/BreastCancerProject"
      ],
      "metadata": {
        "id": "6O4bmaCzMnkr",
        "colab": {
          "base_uri": "https://localhost:8080/"
        },
        "outputId": "523c0b1f-13a2-4eab-8aac-f828f14dcecb"
      },
      "execution_count": null,
      "outputs": [
        {
          "output_type": "stream",
          "name": "stdout",
          "text": [
            "Mounted at /content/drive\n",
            "/content/drive/MyDrive/BreastCancerProject\n"
          ]
        }
      ]
    },
    {
      "cell_type": "code",
      "source": [
        "class CNN(nn.Module):\n",
        "    def __init__(self):\n",
        "        super(CNN, self).__init__()\n",
        "        # Load pretrained EfficientNetB0\n",
        "        self.base_model = models.efficientnet_b0(pretrained=True)\n",
        "\n",
        "        # Replace the first conv layer to accept 1-channel input\n",
        "        # self.base_model.features[0][0] = nn.Conv2d(\n",
        "        #     1, 3, kernel_size=1, stride=1, padding=0  # Conv2D(1, 3, (1, 1)) in Keras\n",
        "        # )\n",
        "\n",
        "        # Global Average Pooling after features\n",
        "        self.pool = nn.AdaptiveAvgPool2d(1)\n",
        "\n",
        "        # Custom dense blocks\n",
        "        self.fc1 = nn.Linear(1280, 512)\n",
        "        self.bn1 = nn.BatchNorm1d(512)\n",
        "        self.dropout1 = nn.Dropout(0.5)\n",
        "\n",
        "        self.fc2 = nn.Linear(512, 256)\n",
        "        self.bn2 = nn.BatchNorm1d(256)\n",
        "        self.dropout2 = nn.Dropout(0.3)\n",
        "\n",
        "        self.output_layer = nn.Linear(256, 3)\n",
        "\n",
        "    def forward(self, x):\n",
        "        x = self.base_model.features(x)  # EfficientNet features\n",
        "        x = self.pool(x)                 # Global Average Pooling\n",
        "        x = torch.flatten(x, 1)\n",
        "\n",
        "        x = F.leaky_relu(self.fc1(x))\n",
        "        x = self.bn1(x)\n",
        "        x = self.dropout1(x)\n",
        "\n",
        "        x = F.leaky_relu(self.fc2(x))\n",
        "        x = self.bn2(x)\n",
        "        x = self.dropout2(x)\n",
        "\n",
        "        x = self.output_layer(x)\n",
        "        return x  # Raw logits (apply softmax during evaluation if needed)"
      ],
      "metadata": {
        "id": "jrftvnVLYWat"
      },
      "execution_count": null,
      "outputs": []
    },
    {
      "cell_type": "code",
      "source": [
        "class MyDataset(Dataset):\n",
        "\n",
        "    label_map = {\n",
        "        0: 0,  # no tumor\n",
        "        1: 1,  # benign calcification tumor\n",
        "        2: 1,  # benign mass tumor\n",
        "        3: 2,  # malignant calcification tumor\n",
        "        4: 2,  # malignant mass tumor\n",
        "    }\n",
        "\n",
        "    def __init__(self, root_dir, csv_path, transform=None):\n",
        "        self.root_dir = root_dir\n",
        "        self.transform = transform\n",
        "        self.meta_data = pd.read_csv(csv_path)\n",
        "\n",
        "    def __getitem__(self, index):\n",
        "        row = self.meta_data.iloc[index]\n",
        "        classification = row['class']\n",
        "        label = self.label_map[classification]\n",
        "\n",
        "        image_name = row['id']\n",
        "        img = Image.open(self.root_dir + image_name + '.png').convert('RGB')\n",
        "        if self.transform:\n",
        "            img = self.transform(img)\n",
        "        # return img, classification\n",
        "        return img, label\n",
        "\n",
        "    def __len__(self):\n",
        "        return len(self.meta_data)"
      ],
      "metadata": {
        "id": "6lrxBm24A9wW"
      },
      "execution_count": null,
      "outputs": []
    },
    {
      "cell_type": "code",
      "source": [
        "def compile_and_prepare_model(model):\n",
        "    # Device setup\n",
        "    device = torch.device(\"cuda\" if torch.cuda.is_available() else \"cpu\")\n",
        "    model = model.to(device)\n",
        "\n",
        "    # Loss function (for 3-class classification)\n",
        "    criterion = nn.CrossEntropyLoss()\n",
        "\n",
        "    # Optimizer with weight decay (AdamW)\n",
        "    initial_learning_rate = 0.0005\n",
        "    optimizer = optim.AdamW(model.parameters(), lr=initial_learning_rate, weight_decay=0.01)\n",
        "\n",
        "    # Learning rate scheduler (Exponential decay)\n",
        "    decay_rate = 0.9\n",
        "    decay_steps = 1000\n",
        "\n",
        "    # scheduler = optim.lr_scheduler.ExponentialLR(optimizer, gamma=decay_rate)\n",
        "    scheduler = torch.optim.lr_scheduler.CosineAnnealingWarmRestarts(\n",
        "        optimizer,\n",
        "        T_0=3,       # Number of epochs before the first restart\n",
        "        T_mult=2,     # Multiply T_0 by this factor after each restart\n",
        "        eta_min=1e-6  # Minimum learning rate\n",
        "    )\n",
        "\n",
        "    return model, criterion, optimizer, scheduler, device\n"
      ],
      "metadata": {
        "id": "90U5YS6jccMs"
      },
      "execution_count": null,
      "outputs": []
    },
    {
      "cell_type": "code",
      "source": [
        "class EarlyStopping:\n",
        "    def __init__(self, patience=10, min_delta=1e-7, restore_best_weights=True):\n",
        "        self.patience = patience\n",
        "        self.min_delta = min_delta\n",
        "        self.restore_best_weights = restore_best_weights\n",
        "        self.counter = 0\n",
        "        self.best_loss = float('inf')\n",
        "        self.best_model_state = None\n",
        "        self.early_stop = False\n",
        "\n",
        "    def __call__(self, val_loss, model):\n",
        "        if val_loss < self.best_loss - self.min_delta:\n",
        "            self.best_loss = val_loss\n",
        "            self.counter = 0\n",
        "            if self.restore_best_weights:\n",
        "                self.best_model_state = {k: v.cpu().clone() for k, v in model.state_dict().items()}\n",
        "        else:\n",
        "            self.counter += 1\n",
        "            if self.counter >= self.patience:\n",
        "                self.early_stop = True\n",
        "                if self.restore_best_weights and self.best_model_state:\n",
        "                    model.load_state_dict(self.best_model_state)\n"
      ],
      "metadata": {
        "id": "hbCTJpEAd9lr"
      },
      "execution_count": null,
      "outputs": []
    },
    {
      "cell_type": "code",
      "source": [
        "from sklearn.metrics import f1_score\n",
        "# model training with validation and early stopping\n",
        "def train_and_validate(model, train_loader, val_loader, optimizer, loss_fn, scheduler, early_stopping, num_epochs=60):\n",
        "    device = torch.device('cuda' if torch.cuda.is_available() else 'cpu')\n",
        "    model.to(device)\n",
        "\n",
        "    history = {\n",
        "        'train_loss': [],\n",
        "        'val_loss': [],\n",
        "        'train_acc': [],\n",
        "        'val_acc': []\n",
        "    }\n",
        "\n",
        "    for epoch in range(num_epochs):\n",
        "        print(f\"\\nEpoch {epoch+1}/{num_epochs}\")\n",
        "\n",
        "        # Training phase\n",
        "        model.train()\n",
        "        train_loss = 0\n",
        "        correct = 0\n",
        "        total = 0\n",
        "\n",
        "        for images, labels in train_loader:\n",
        "            images, labels = images.to(device), labels.to(device)\n",
        "\n",
        "            optimizer.zero_grad()\n",
        "            outputs = model(images)\n",
        "            loss = loss_fn(outputs, labels)\n",
        "            loss.backward()\n",
        "            optimizer.step()\n",
        "\n",
        "            train_loss += loss.item() * labels.size(0)\n",
        "            _, preds = torch.max(outputs, 1)\n",
        "            correct += (preds == labels).sum().item()\n",
        "            total += labels.size(0)\n",
        "\n",
        "        avg_train_loss = train_loss / total\n",
        "        train_acc = correct / total\n",
        "\n",
        "        # Validation phase\n",
        "        model.eval()\n",
        "        val_loss = 0\n",
        "        val_correct = 0\n",
        "        val_total = 0\n",
        "\n",
        "        with torch.no_grad():\n",
        "            for images, labels in val_loader:\n",
        "                images, labels = images.to(device), labels.to(device)\n",
        "                outputs = model(images)\n",
        "                loss = loss_fn(outputs, labels)\n",
        "\n",
        "                val_loss += loss.item() * labels.size(0)\n",
        "                _, preds = torch.max(outputs, 1)\n",
        "                val_correct += (preds == labels).sum().item()\n",
        "                val_total += labels.size(0)\n",
        "\n",
        "        avg_val_loss = val_loss / val_total\n",
        "        val_acc = val_correct / val_total\n",
        "        f_1 = f1_score(labels.cpu().numpy(), preds.cpu().numpy(), average='macro')\n",
        "\n",
        "        # Logging\n",
        "        history['train_loss'].append(avg_train_loss)\n",
        "        history['val_loss'].append(avg_val_loss)\n",
        "        history['train_acc'].append(train_acc)\n",
        "        history['val_acc'].append(val_acc)\n",
        "\n",
        "        print(f\"Train Loss: {avg_train_loss:.4f}, Acc: {train_acc:.4f} | \"\n",
        "              f\"Val Loss: {avg_val_loss:.4f}, Acc: {val_acc:.4f}, F1: {f_1}\")\n",
        "\n",
        "        torch.save(model.state_dict(), \"last_full_model.pth\")\n",
        "        # Callbacks (ReduceLROnPlateau and EarlyStopping)\n",
        "        scheduler.step(epoch)\n",
        "        early_stopping(avg_val_loss, model)\n",
        "\n",
        "        if avg_val_loss <= early_stopping.best_loss:\n",
        "            torch.save(model.state_dict(), \"best_full_model.pth\")\n",
        "            print(\"Model checkpoint saved.\")\n",
        "\n",
        "        if early_stopping.early_stop:\n",
        "            print(\"Early stopping triggered.\")\n",
        "            break\n",
        "\n",
        "    return history\n"
      ],
      "metadata": {
        "id": "rfAjNMxaGEzi"
      },
      "execution_count": null,
      "outputs": []
    },
    {
      "cell_type": "code",
      "source": [
        "def evaluate_model(model, test_loader, loss_fn, history, class_names=None):\n",
        "    device = torch.device('cuda' if torch.cuda.is_available() else 'cpu')\n",
        "    model.to(device)\n",
        "\n",
        "    # Set model to evaluation mode\n",
        "    model.eval()\n",
        "\n",
        "    # Initialize variables\n",
        "    test_loss = 0\n",
        "    correct = 0\n",
        "    total = 0\n",
        "    y_true = []\n",
        "    y_pred = []\n",
        "\n",
        "    # No gradients are needed during evaluation\n",
        "    with torch.no_grad():\n",
        "        for images, labels in test_loader:\n",
        "            images, labels = images.to(device), labels.to(device)\n",
        "\n",
        "            # Forward pass\n",
        "            outputs = model(images)\n",
        "            loss = loss_fn(outputs, labels)\n",
        "            test_loss += loss.item() * labels.size(0)\n",
        "\n",
        "            # Predictions and accuracy calculation\n",
        "            _, preds = torch.max(outputs, 1)\n",
        "            y_pred.extend(preds.cpu().numpy())\n",
        "            y_true.extend(labels.cpu().numpy())\n",
        "\n",
        "            correct += (preds == labels).sum().item()\n",
        "            total += labels.size(0)\n",
        "\n",
        "    # Average test loss and accuracy\n",
        "    avg_test_loss = test_loss # / total\n",
        "    test_accuracy = correct / total\n",
        "\n",
        "    # Print test results\n",
        "    print(\"\\nTest Results:\")\n",
        "    print(f\"Loss: {avg_test_loss:.4f}\")\n",
        "    print(f\"Accuracy: {test_accuracy:.4f}\")\n",
        "\n",
        "    # Confusion matrix\n",
        "    cm = confusion_matrix(y_true, y_pred)\n",
        "\n",
        "    # Plot confusion matrix\n",
        "    if class_names:\n",
        "        plt.figure(figsize=(10, 8))\n",
        "        sns.heatmap(cm, annot=True, fmt='d', cmap='Blues',\n",
        "                    xticklabels=class_names, yticklabels=class_names)\n",
        "        plt.title('Confusion Matrix')\n",
        "        plt.xlabel('Predicted')\n",
        "        plt.ylabel('True')\n",
        "        plt.tight_layout()\n",
        "        plt.show()\n",
        "\n",
        "    # Classification report\n",
        "    print(\"\\nClassification Report:\")\n",
        "    report = classification_report(y_true, y_pred, target_names=class_names, digits=4)\n",
        "    print(report)\n",
        "\n",
        "    if(history):\n",
        "        # Plot train and validation loss curves\n",
        "        plt.plot(history['train_loss'], label='Train Loss')\n",
        "        plt.plot(history['val_loss'], label='Val Loss')\n",
        "        plt.legend()\n",
        "        plt.title('Loss Curves')\n",
        "        plt.xlabel('Epochs')\n",
        "        plt.ylabel('Loss')\n",
        "    plt.show()\n",
        "\n",
        "    return avg_test_loss, test_accuracy, cm, report\n"
      ],
      "metadata": {
        "id": "Z3OxfED7IxMe"
      },
      "execution_count": null,
      "outputs": []
    },
    {
      "cell_type": "code",
      "source": [
        "data_transforms = transforms.Compose([\n",
        "    transforms.Resize((299, 299)),         # Resize to 299x299 pixels\n",
        "    transforms.ToTensor(),                 # Convert to tensor\n",
        "#    transforms.Normalize(\n",
        "#        mean=[0.485, 0.456, 0.406],        # Normalize using ImageNet statistics\n",
        "#        std=[0.229, 0.224, 0.225]\n",
        "#    ),\n",
        "])\n",
        "train_dataset0 = MyDataset(root_dir='./training_data_0/', csv_path='./training_data_0/record.csv', transform=data_transforms)\n",
        "augmented_dataset0 = MyDataset(root_dir='./augmented_data_0/', csv_path='./augmented_data_0/record.csv', transform=data_transforms)\n",
        "train_dataset1 = MyDataset(root_dir='./training_data_1/', csv_path='./training_data_1/record.csv', transform=data_transforms)\n",
        "augmented_dataset1 = MyDataset(root_dir='./augmented_data_1/', csv_path='./augmented_data_1/record.csv', transform=data_transforms)\n",
        "train_dataset2 = MyDataset(root_dir='./training_data_2/', csv_path='./training_data_2/record.csv', transform=data_transforms)\n",
        "augmented_dataset2 = MyDataset(root_dir='./augmented_data_2/', csv_path='./augmented_data_2/record.csv', transform=data_transforms)\n",
        "train_dataset3 = MyDataset(root_dir='./training_data_3/', csv_path='./training_data_3/record.csv', transform=data_transforms)\n",
        "augmented_dataset3 = MyDataset(root_dir='./augmented_data_3/', csv_path='./augmented_data_3/record.csv', transform=data_transforms)\n",
        "train_dataset4 = MyDataset(root_dir='./training_data_4/', csv_path='./training_data_4/record.csv', transform=data_transforms)\n",
        "augmented_dataset4 = MyDataset(root_dir='./augmented_data_4/', csv_path='./augmented_data_4/record.csv', transform=data_transforms)\n",
        "\n",
        "full_dataset = torch.utils.data.ConcatDataset([train_dataset0, augmented_dataset0, train_dataset1, augmented_dataset1,\n",
        "                                               train_dataset2, augmented_dataset2, train_dataset3, augmented_dataset3,\n",
        "                                               train_dataset4, augmented_dataset4])\n",
        "# full_dataset = torch.utils.data.ConcatDataset([train_dataset0, train_dataset1,\n",
        "#                                                train_dataset2, train_dataset3,\n",
        "#                                                train_dataset4 ])"
      ],
      "metadata": {
        "id": "FrPsmhFIJ4O1"
      },
      "execution_count": null,
      "outputs": []
    },
    {
      "cell_type": "code",
      "source": [
        "train_loader = DataLoader(\n",
        "    dataset=full_dataset,\n",
        "    batch_size=64,\n",
        "    shuffle=True,\n",
        "    num_workers=12,\n",
        "    pin_memory=True\n",
        ")"
      ],
      "metadata": {
        "id": "muwwuFOw_sx2"
      },
      "execution_count": null,
      "outputs": []
    },
    {
      "cell_type": "code",
      "source": [
        "model = CNN()\n",
        "# model.load_state_dict(torch.load('GOOD_STUFF.pth'))\n",
        "model, criterion, optimizer, scheduler, device = compile_and_prepare_model(model)\n",
        "\n",
        "early_stopping = EarlyStopping(patience=10, min_delta=1e-7, restore_best_weights=True)\n",
        "# calculated via a google sheet\n",
        "# class_weights = [1.0, 6.053311897, 8.903080904]\n",
        "class_weights = [1.0,1.0, 1.0]\n",
        "# class_weights = [1, 46.21576457, 45.77318381, 83.04138749, 53.63780984]\n",
        "class_weights_tensor = torch.tensor(class_weights, dtype=torch.float).to(device)\n",
        "loss_fn = nn.CrossEntropyLoss(weight=class_weights_tensor)"
      ],
      "metadata": {
        "colab": {
          "base_uri": "https://localhost:8080/"
        },
        "id": "n7wlqbqqdaF6",
        "outputId": "138a6cbc-b1d3-424d-baa6-95a0a40ec936"
      },
      "execution_count": null,
      "outputs": [
        {
          "output_type": "stream",
          "name": "stderr",
          "text": [
            "/usr/local/lib/python3.11/dist-packages/torchvision/models/_utils.py:208: UserWarning: The parameter 'pretrained' is deprecated since 0.13 and may be removed in the future, please use 'weights' instead.\n",
            "  warnings.warn(\n",
            "/usr/local/lib/python3.11/dist-packages/torchvision/models/_utils.py:223: UserWarning: Arguments other than a weight enum or `None` for 'weights' are deprecated since 0.13 and may be removed in the future. The current behavior is equivalent to passing `weights=EfficientNet_B0_Weights.IMAGENET1K_V1`. You can also use `weights=EfficientNet_B0_Weights.DEFAULT` to get the most up-to-date weights.\n",
            "  warnings.warn(msg)\n"
          ]
        }
      ]
    },
    {
      "cell_type": "code",
      "source": [
        "test_dataset = MyDataset(root_dir='./test/', csv_path='test_labels.csv', transform=data_transforms)\n",
        "total_size = len(test_dataset)\n",
        "half_size = total_size // 2\n",
        "test_set, val_set = random_split(test_dataset, [half_size, total_size - half_size])\n",
        "test_loader = DataLoader(\n",
        "    dataset=test_set,\n",
        "    batch_size=64,\n",
        "    shuffle=False,\n",
        "    num_workers=12,\n",
        "    pin_memory=True\n",
        ")\n",
        "val_loader = DataLoader(\n",
        "    dataset=val_set,\n",
        "    batch_size=64,\n",
        "    shuffle=False,\n",
        "    num_workers=12,\n",
        "    pin_memory=True\n",
        ")"
      ],
      "metadata": {
        "id": "1g7LVMrKfwgE"
      },
      "execution_count": null,
      "outputs": []
    },
    {
      "cell_type": "code",
      "source": [
        "history = train_and_validate(model, train_loader, val_loader, optimizer, loss_fn, scheduler, early_stopping, num_epochs=60)"
      ],
      "metadata": {
        "colab": {
          "base_uri": "https://localhost:8080/"
        },
        "id": "nDU1Q0L9GQsW",
        "outputId": "0a5bbafc-94e0-4c2f-8346-2c94fec3b98a"
      },
      "execution_count": null,
      "outputs": [
        {
          "output_type": "stream",
          "name": "stdout",
          "text": [
            "\n",
            "Epoch 1/60\n",
            "Train Loss: 0.3026, Acc: 0.8599 | Val Loss: 0.1132, Acc: 0.9530, F1: 1.0\n",
            "Model checkpoint saved.\n",
            "\n",
            "Epoch 2/60\n",
            "Train Loss: 0.1988, Acc: 0.9155 | Val Loss: 0.1045, Acc: 0.9573, F1: 1.0\n",
            "Model checkpoint saved.\n",
            "\n",
            "Epoch 3/60\n",
            "Train Loss: 0.1184, Acc: 0.9534 | Val Loss: 0.1307, Acc: 0.9538, F1: 0.3333333333333333\n",
            "\n",
            "Epoch 4/60\n",
            "Train Loss: 0.0421, Acc: 0.9848 | Val Loss: 0.1241, Acc: 0.9663, F1: 1.0\n",
            "\n",
            "Epoch 5/60\n",
            "Train Loss: 0.0923, Acc: 0.9661 | Val Loss: 0.1229, Acc: 0.9645, F1: 1.0\n",
            "\n",
            "Epoch 6/60\n",
            "Train Loss: 0.0652, Acc: 0.9763 | Val Loss: 0.1394, Acc: 0.9593, F1: 1.0\n",
            "\n",
            "Epoch 7/60\n",
            "Train Loss: 0.0389, Acc: 0.9861 | Val Loss: 0.1479, Acc: 0.9642, F1: 1.0\n",
            "\n",
            "Epoch 8/60\n",
            "Train Loss: 0.0212, Acc: 0.9927 | Val Loss: 0.1693, Acc: 0.9616, F1: 1.0\n",
            "\n",
            "Epoch 9/60\n",
            "Train Loss: 0.0092, Acc: 0.9969 | Val Loss: 0.1814, Acc: 0.9667, F1: 1.0\n",
            "\n",
            "Epoch 10/60\n",
            "Train Loss: 0.0046, Acc: 0.9986 | Val Loss: 0.1846, Acc: 0.9671, F1: 1.0\n",
            "\n",
            "Epoch 11/60\n",
            "Train Loss: 0.0678, Acc: 0.9750 | Val Loss: 0.1442, Acc: 0.9642, F1: 1.0\n",
            "\n",
            "Epoch 12/60\n",
            "Train Loss: 0.0413, Acc: 0.9852 | Val Loss: 0.1601, Acc: 0.9625, F1: 0.3333333333333333\n",
            "Early stopping triggered.\n"
          ]
        }
      ]
    },
    {
      "cell_type": "code",
      "source": [
        "class_names = ['Normal', 'Benign Tumor', 'Malignant Tumor']\n",
        "# class_names = [ 'Normal', 'Benign Calcification', 'Benign Mass', 'Malignant Calcification', 'Malignant Mass']\n",
        "avg_test_loss, test_accuracy, cm, report = evaluate_model(model, test_loader, loss_fn, history, class_names)"
      ],
      "metadata": {
        "colab": {
          "base_uri": "https://localhost:8080/",
          "height": 1000
        },
        "id": "8ALZZGTrQd7L",
        "outputId": "264fbdde-ee9d-4e35-aedb-7d12d2c08a84"
      },
      "execution_count": null,
      "outputs": [
        {
          "output_type": "stream",
          "name": "stdout",
          "text": [
            "\n",
            "Test Results:\n",
            "Loss: 846.1225\n",
            "Accuracy: 0.9537\n"
          ]
        },
        {
          "output_type": "display_data",
          "data": {
            "text/plain": [
              "<Figure size 1000x800 with 2 Axes>"
            ],
            "image/png": "[encoded data removed]"
          },
          "metadata": {}
        },
        {
          "output_type": "stream",
          "name": "stdout",
          "text": [
            "\n",
            "Classification Report:\n",
            "                 precision    recall  f1-score   support\n",
            "\n",
            "         Normal     0.9858    0.9993    0.9925      6692\n",
            "   Benign Tumor     0.7791    0.6513    0.7095       585\n",
            "Malignant Tumor     0.6293    0.6370    0.6331       405\n",
            "\n",
            "       accuracy                         0.9537      7682\n",
            "      macro avg     0.7981    0.7625    0.7784      7682\n",
            "   weighted avg     0.9513    0.9537    0.9520      7682\n",
            "\n"
          ]
        },
        {
          "output_type": "display_data",
          "data": {
            "text/plain": [
              "<Figure size 640x480 with 1 Axes>"
            ],
            "image/png": "[encoded data removed]"
          },
          "metadata": {}
        }
      ]
    },
    {
      "cell_type": "code",
      "source": [
        "last_model = CNN()\n",
        "last_model.load_state_dict(torch.load('BREAST_CANCER_BEST.pth'))\n",
        "avg_test_loss, test_accuracy, cm, report = evaluate_model(last_model, test_loader, loss_fn, history, class_names)\n",
        "avg_test_loss, test_accuracy, cm, report = evaluate_model(last_model, train_loader, loss_fn, history, class_names)"
      ],
      "metadata": {
        "colab": {
          "base_uri": "https://localhost:8080/",
          "height": 228
        },
        "id": "BHd77jRPgy-i",
        "outputId": "6925383d-b3f1-477d-8b68-e7709786a41a"
      },
      "execution_count": null,
      "outputs": [
        {
          "output_type": "error",
          "ename": "NameError",
          "evalue": "name 'CNN' is not defined",
          "traceback": [
            "\u001b[0;31m---------------------------------------------------------------------------\u001b[0m",
            "\u001b[0;31mNameError\u001b[0m                                 Traceback (most recent call last)",
            "\u001b[0;32m<ipython-input-1-a92345955817>\u001b[0m in \u001b[0;36m<cell line: 0>\u001b[0;34m()\u001b[0m\n\u001b[0;32m----> 1\u001b[0;31m \u001b[0mlast_model\u001b[0m \u001b[0;34m=\u001b[0m \u001b[0mCNN\u001b[0m\u001b[0;34m(\u001b[0m\u001b[0;34m)\u001b[0m\u001b[0;34m\u001b[0m\u001b[0;34m\u001b[0m\u001b[0m\n\u001b[0m\u001b[1;32m      2\u001b[0m \u001b[0mlast_model\u001b[0m\u001b[0;34m.\u001b[0m\u001b[0mload_state_dict\u001b[0m\u001b[0;34m(\u001b[0m\u001b[0mtorch\u001b[0m\u001b[0;34m.\u001b[0m\u001b[0mload\u001b[0m\u001b[0;34m(\u001b[0m\u001b[0;34m'BREAST_CANCER_BEST.pth'\u001b[0m\u001b[0;34m)\u001b[0m\u001b[0;34m)\u001b[0m\u001b[0;34m\u001b[0m\u001b[0;34m\u001b[0m\u001b[0m\n\u001b[1;32m      3\u001b[0m \u001b[0mavg_test_loss\u001b[0m\u001b[0;34m,\u001b[0m \u001b[0mtest_accuracy\u001b[0m\u001b[0;34m,\u001b[0m \u001b[0mcm\u001b[0m\u001b[0;34m,\u001b[0m \u001b[0mreport\u001b[0m \u001b[0;34m=\u001b[0m \u001b[0mevaluate_model\u001b[0m\u001b[0;34m(\u001b[0m\u001b[0mlast_model\u001b[0m\u001b[0;34m,\u001b[0m \u001b[0mtest_loader\u001b[0m\u001b[0;34m,\u001b[0m \u001b[0mloss_fn\u001b[0m\u001b[0;34m,\u001b[0m \u001b[0mhistory\u001b[0m\u001b[0;34m,\u001b[0m \u001b[0mclass_names\u001b[0m\u001b[0;34m)\u001b[0m\u001b[0;34m\u001b[0m\u001b[0;34m\u001b[0m\u001b[0m\n\u001b[1;32m      4\u001b[0m \u001b[0mavg_test_loss\u001b[0m\u001b[0;34m,\u001b[0m \u001b[0mtest_accuracy\u001b[0m\u001b[0;34m,\u001b[0m \u001b[0mcm\u001b[0m\u001b[0;34m,\u001b[0m \u001b[0mreport\u001b[0m \u001b[0;34m=\u001b[0m \u001b[0mevaluate_model\u001b[0m\u001b[0;34m(\u001b[0m\u001b[0mlast_model\u001b[0m\u001b[0;34m,\u001b[0m \u001b[0mtrain_loader\u001b[0m\u001b[0;34m,\u001b[0m \u001b[0mloss_fn\u001b[0m\u001b[0;34m,\u001b[0m \u001b[0mhistory\u001b[0m\u001b[0;34m,\u001b[0m \u001b[0mclass_names\u001b[0m\u001b[0;34m)\u001b[0m\u001b[0;34m\u001b[0m\u001b[0;34m\u001b[0m\u001b[0m\n",
            "\u001b[0;31mNameError\u001b[0m: name 'CNN' is not defined"
          ]
        }
      ]
    }
  ]
}
